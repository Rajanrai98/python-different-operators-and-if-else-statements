{
 "cells": [
  {
   "cell_type": "code",
   "execution_count": null,
   "id": "e92c0857",
   "metadata": {},
   "outputs": [],
   "source": [
    "print(\"my name is rajan\")"
   ]
  },
  {
   "cell_type": "code",
   "execution_count": null,
   "id": "886357bc",
   "metadata": {},
   "outputs": [],
   "source": [
    "## Arithmatic operators"
   ]
  },
  {
   "cell_type": "code",
   "execution_count": null,
   "id": "74f4bfb4",
   "metadata": {},
   "outputs": [],
   "source": [
    "##adition\n",
    "a = 10\n",
    "b = 20\n",
    "add = a+b\n",
    "print(add)"
   ]
  },
  {
   "cell_type": "code",
   "execution_count": null,
   "id": "4ca9675d",
   "metadata": {},
   "outputs": [],
   "source": [
    "a = 20\n",
    "b = 30\n",
    "print(a==b)"
   ]
  },
  {
   "cell_type": "code",
   "execution_count": null,
   "id": "0b29b3c8",
   "metadata": {},
   "outputs": [],
   "source": [
    "## substraction\n",
    "a = 12\n",
    "b = 56\n",
    "sub = b-a\n",
    "print(sub)\n",
    "print(a==b)"
   ]
  },
  {
   "cell_type": "code",
   "execution_count": null,
   "id": "fcc14d28",
   "metadata": {},
   "outputs": [],
   "source": [
    "## multiplication\n",
    "a = 35\n",
    "b = 15\n",
    "product = a*b\n",
    "print(product)\n",
    "print(a!=b)"
   ]
  },
  {
   "cell_type": "code",
   "execution_count": null,
   "id": "405253e5",
   "metadata": {},
   "outputs": [],
   "source": [
    "## Division\n",
    "a = 25\n",
    "b = 25\n",
    "division = a/b\n",
    "print(division)\n",
    "print(a==b)"
   ]
  },
  {
   "cell_type": "code",
   "execution_count": null,
   "id": "2ff2e657",
   "metadata": {},
   "outputs": [],
   "source": [
    "##floor division\n",
    "a = 45\n",
    "b = 45\n",
    "floor_division  = a//b\n",
    "print(floor_division)\n",
    "print(a==b)"
   ]
  },
  {
   "cell_type": "code",
   "execution_count": null,
   "id": "067e21f3",
   "metadata": {},
   "outputs": [],
   "source": [
    "a =  36\n",
    "b = 56\n",
    "floor_division = a//b\n",
    "print(floor_division)"
   ]
  },
  {
   "cell_type": "code",
   "execution_count": null,
   "id": "bc3fa915",
   "metadata": {},
   "outputs": [],
   "source": [
    "## percentage\n",
    "\n",
    "a = 45\n",
    "b = 37\n",
    "\n",
    "percentage = a%b\n",
    "print(percentage)"
   ]
  },
  {
   "cell_type": "code",
   "execution_count": null,
   "id": "c6cfcc8b",
   "metadata": {},
   "outputs": [],
   "source": [
    "a = 4\n",
    "b = 5\n",
    "power = (a^b)\n",
    "print(power)"
   ]
  },
  {
   "cell_type": "code",
   "execution_count": null,
   "id": "d4127fb8",
   "metadata": {},
   "outputs": [],
   "source": [
    "power = 4^5\n",
    "print(power)"
   ]
  },
  {
   "cell_type": "code",
   "execution_count": null,
   "id": "46aa7ea3",
   "metadata": {},
   "outputs": [],
   "source": [
    "4^5"
   ]
  },
  {
   "cell_type": "code",
   "execution_count": null,
   "id": "5b4248e6",
   "metadata": {},
   "outputs": [],
   "source": [
    "2^2"
   ]
  },
  {
   "cell_type": "code",
   "execution_count": null,
   "id": "d5bb4711",
   "metadata": {},
   "outputs": [],
   "source": [
    "4^5"
   ]
  },
  {
   "cell_type": "code",
   "execution_count": null,
   "id": "28c79295",
   "metadata": {},
   "outputs": [],
   "source": [
    "## Assignment operator"
   ]
  },
  {
   "cell_type": "code",
   "execution_count": null,
   "id": "939cf2bc",
   "metadata": {},
   "outputs": [],
   "source": [
    "a =  7\n",
    "b = 4\n",
    "a /=b\n",
    "print(a)"
   ]
  },
  {
   "cell_type": "code",
   "execution_count": null,
   "id": "23d87338",
   "metadata": {},
   "outputs": [],
   "source": [
    "a = 3\n",
    "b =4 \n",
    "a *=b\n",
    "print(a)"
   ]
  },
  {
   "cell_type": "code",
   "execution_count": null,
   "id": "e4697f46",
   "metadata": {},
   "outputs": [],
   "source": [
    "a = 3\n",
    "b =2\n",
    "a +=b\n",
    "print(a)"
   ]
  },
  {
   "cell_type": "code",
   "execution_count": null,
   "id": "dd6065b1",
   "metadata": {},
   "outputs": [],
   "source": [
    "a = 5\n",
    "b = 4\n",
    "a-=b\n",
    "print(a)"
   ]
  },
  {
   "cell_type": "code",
   "execution_count": null,
   "id": "4a456894",
   "metadata": {},
   "outputs": [],
   "source": [
    "a = 5\n",
    "b = 8\n",
    "a ^=b\n",
    "print(a)"
   ]
  },
  {
   "cell_type": "code",
   "execution_count": null,
   "id": "8cadb467",
   "metadata": {},
   "outputs": [],
   "source": [
    "a = 5\n",
    "b = 4\n",
    "a //=b\n",
    "print(a)"
   ]
  },
  {
   "cell_type": "code",
   "execution_count": null,
   "id": "15f601a1",
   "metadata": {},
   "outputs": [],
   "source": [
    "2**4"
   ]
  },
  {
   "cell_type": "code",
   "execution_count": null,
   "id": "6b53c0ef",
   "metadata": {},
   "outputs": [],
   "source": [
    "a = 5\n",
    "b = 6\n",
    "power = (a**b)\n",
    "print(power)"
   ]
  },
  {
   "cell_type": "code",
   "execution_count": null,
   "id": "85b7a219",
   "metadata": {},
   "outputs": [],
   "source": []
  },
  {
   "cell_type": "code",
   "execution_count": null,
   "id": "8a2b7b0e",
   "metadata": {},
   "outputs": [],
   "source": [
    "## & operator is bitwise operator\n",
    "\n",
    "a = 5\n",
    "b = 3\n",
    "print(a & b)\n"
   ]
  },
  {
   "cell_type": "code",
   "execution_count": null,
   "id": "a7c2289f",
   "metadata": {},
   "outputs": [],
   "source": [
    "## | is the bitwise operator\n",
    "\n",
    "a = 5\n",
    "b = 3\n",
    "print(a|b)"
   ]
  },
  {
   "cell_type": "code",
   "execution_count": null,
   "id": "cb6ae142",
   "metadata": {},
   "outputs": [],
   "source": []
  },
  {
   "cell_type": "code",
   "execution_count": null,
   "id": "4a9e27e6",
   "metadata": {},
   "outputs": [],
   "source": [
    "## and operator is logical operator\n",
    "\n",
    "a = 5\n",
    "b = 4\n",
    "print(a and b)"
   ]
  },
  {
   "cell_type": "code",
   "execution_count": null,
   "id": "7d976ab0",
   "metadata": {},
   "outputs": [],
   "source": [
    "## or operator\n",
    "\n",
    "a = 5\n",
    "b = 4\n",
    "print(a or b)"
   ]
  },
  {
   "cell_type": "code",
   "execution_count": null,
   "id": "1ab386cc",
   "metadata": {},
   "outputs": [],
   "source": [
    "## not logical operator\n",
    "\n",
    "a = 5\n",
    "b = 7\n",
    "print (not (a==b) )"
   ]
  },
  {
   "cell_type": "code",
   "execution_count": null,
   "id": "0b2eea74",
   "metadata": {},
   "outputs": [],
   "source": [
    "a = 5\n",
    "b = 3\n",
    "print(not(a&b))"
   ]
  },
  {
   "cell_type": "code",
   "execution_count": null,
   "id": "50fa598c",
   "metadata": {},
   "outputs": [],
   "source": [
    "a = 8\n",
    "b = 10\n",
    "print(not(a==b))"
   ]
  },
  {
   "cell_type": "code",
   "execution_count": null,
   "id": "9d7c2e3c",
   "metadata": {},
   "outputs": [],
   "source": [
    "a = 7\n",
    "print(a<<7)"
   ]
  },
  {
   "cell_type": "code",
   "execution_count": null,
   "id": "ae84097e",
   "metadata": {},
   "outputs": [],
   "source": [
    "a = 14\n",
    "print(a>>14)"
   ]
  },
  {
   "cell_type": "code",
   "execution_count": null,
   "id": "d82dd356",
   "metadata": {},
   "outputs": [],
   "source": [
    "a = 14\n",
    "print(a<<14)"
   ]
  },
  {
   "cell_type": "code",
   "execution_count": null,
   "id": "94c09ce2",
   "metadata": {},
   "outputs": [],
   "source": [
    "a = 8\n",
    "b = 4\n",
    "print(8&b)\n",
    "print(8|b)\n",
    "print(8^b)\n"
   ]
  },
  {
   "cell_type": "code",
   "execution_count": null,
   "id": "c95bb283",
   "metadata": {},
   "outputs": [],
   "source": [
    "print(14<<1)"
   ]
  },
  {
   "cell_type": "code",
   "execution_count": null,
   "id": "b3387c04",
   "metadata": {},
   "outputs": [],
   "source": [
    "print(14>>1)"
   ]
  },
  {
   "cell_type": "code",
   "execution_count": null,
   "id": "9e5ffb81",
   "metadata": {},
   "outputs": [],
   "source": [
    "print(14<<2)"
   ]
  },
  {
   "cell_type": "code",
   "execution_count": null,
   "id": "dd9b5d72",
   "metadata": {},
   "outputs": [],
   "source": [
    "print(14>>2)"
   ]
  },
  {
   "cell_type": "code",
   "execution_count": null,
   "id": "597a1a0f",
   "metadata": {},
   "outputs": [],
   "source": [
    "x = 0\n",
    "if x<5 and x<10:\n",
    "    print(\"True\")\n",
    "else:\n",
    "    print(\"False\")"
   ]
  },
  {
   "cell_type": "code",
   "execution_count": null,
   "id": "7389ba23",
   "metadata": {},
   "outputs": [],
   "source": [
    "x = 10\n",
    "if x<15 or x>20:\n",
    "    print(\"True\")\n",
    "else:\n",
    "    print(\"False\")"
   ]
  },
  {
   "cell_type": "code",
   "execution_count": null,
   "id": "96d52036",
   "metadata": {},
   "outputs": [],
   "source": [
    "x = 15\n",
    "if x<20 and x>15:\n",
    "    print(\"True\")\n",
    "else:\n",
    "    print('False')"
   ]
  },
  {
   "cell_type": "code",
   "execution_count": null,
   "id": "99717036",
   "metadata": {},
   "outputs": [],
   "source": [
    "x = 12\n",
    "if not x<20 and x<14:\n",
    "    print(\"True\")\n",
    "else:\n",
    "    print(\"False\")"
   ]
  },
  {
   "cell_type": "code",
   "execution_count": null,
   "id": "a96a0eab",
   "metadata": {},
   "outputs": [],
   "source": [
    "## Comparison operators\n",
    "a = 10\n",
    "b = 30\n",
    "print(a!=b)"
   ]
  },
  {
   "cell_type": "code",
   "execution_count": null,
   "id": "c0801eba",
   "metadata": {},
   "outputs": [],
   "source": [
    "a = 16\n",
    "b = 15\n",
    "print(a==b)"
   ]
  },
  {
   "cell_type": "code",
   "execution_count": null,
   "id": "90f5e9bc",
   "metadata": {},
   "outputs": [],
   "source": [
    "a = 16\n",
    "b = 15\n",
    "print(a>b)"
   ]
  },
  {
   "cell_type": "code",
   "execution_count": null,
   "id": "baa1f156",
   "metadata": {},
   "outputs": [],
   "source": [
    "a = 20\n",
    "b = 35\n",
    "print(a>b)"
   ]
  },
  {
   "cell_type": "code",
   "execution_count": null,
   "id": "3777c6ff",
   "metadata": {},
   "outputs": [],
   "source": [
    "a = 20\n",
    "b = 35\n",
    "print(a>=b)"
   ]
  },
  {
   "cell_type": "code",
   "execution_count": null,
   "id": "035547fa",
   "metadata": {},
   "outputs": [],
   "source": [
    "## Identity operators\n",
    "\n",
    "x = [\"apple\",\"grapes\",\"orange\",\"banana\"]\n",
    "y = [\"apple\",\"grapes\",\"orange\",\"banana\"]\n",
    "z = x\n",
    "print(x is z)\n",
    "print(x is y )"
   ]
  },
  {
   "cell_type": "code",
   "execution_count": null,
   "id": "0950bcfe",
   "metadata": {},
   "outputs": [],
   "source": [
    "x = [\"apple\",\"grapes\",\"orange\",\"banana\"]\n",
    "y = [\"apple\",\"grapes\",\"orange\",\"banana\"]\n",
    "print(x == y)"
   ]
  },
  {
   "cell_type": "code",
   "execution_count": null,
   "id": "c29d56d9",
   "metadata": {},
   "outputs": [],
   "source": [
    "x = [\"apple\",\"grapes\",\"orange\",\"banana\"]\n",
    "y = [\"apple\",\"grapes\",\"orange\",\"banana\"]\n",
    "z = x\n",
    "print( x in z)"
   ]
  },
  {
   "cell_type": "code",
   "execution_count": null,
   "id": "a59568d8",
   "metadata": {},
   "outputs": [],
   "source": [
    "x = [\"apple\",\"grapes\",\"orange\",\"banana\"]\n",
    "y = [\"apple\",\"grapes\",\"orange\",\"banana\"]\n",
    "z = x\n",
    "print(x is not y)\n",
    "print(x is not z)"
   ]
  },
  {
   "cell_type": "code",
   "execution_count": null,
   "id": "67ad4844",
   "metadata": {},
   "outputs": [],
   "source": [
    "## membership operators\n",
    "\n",
    "fruit = [\"apple\",\"grapes\",\"orange\",\"banana\"]\n",
    "\n",
    "print(\"apple\" in fruit)"
   ]
  },
  {
   "cell_type": "code",
   "execution_count": null,
   "id": "337f9e98",
   "metadata": {},
   "outputs": [],
   "source": [
    "\n",
    "fruit = [\"apple\",\"grapes\",\"orange\",\"banana\"]\n",
    "print(\"apple\" not in fruit)"
   ]
  },
  {
   "cell_type": "code",
   "execution_count": null,
   "id": "63faf7b4",
   "metadata": {},
   "outputs": [],
   "source": [
    "fruit = [\"apple\",\"grapes\",\"orange\",\"banana\"]\n",
    "print(\"banana\" in fruit)"
   ]
  },
  {
   "cell_type": "code",
   "execution_count": null,
   "id": "d3dad8cd",
   "metadata": {},
   "outputs": [],
   "source": [
    "fruit = [\"apple\",\"grapes\",\"orange\",\"banana\"]\n",
    "print(\"gavava\" not in fruit)"
   ]
  },
  {
   "cell_type": "code",
   "execution_count": 2,
   "id": "5d18f19f",
   "metadata": {},
   "outputs": [],
   "source": [
    "## user define input\n",
    "\n",
    "def km_to_msec(km):\n",
    "    msec = km*(5/18)\n",
    "    return msec"
   ]
  },
  {
   "cell_type": "code",
   "execution_count": 3,
   "id": "c378fae6",
   "metadata": {},
   "outputs": [
    {
     "data": {
      "text/plain": [
       "5.555555555555555"
      ]
     },
     "execution_count": 3,
     "metadata": {},
     "output_type": "execute_result"
    }
   ],
   "source": [
    "km_to_msec(20)"
   ]
  },
  {
   "cell_type": "code",
   "execution_count": 4,
   "id": "a3fdb7a3",
   "metadata": {},
   "outputs": [
    {
     "name": "stdout",
     "output_type": "stream",
     "text": [
      "enter the name Nidhi\n",
      "Physics 45\n",
      "Math 56\n",
      "Chemistry 78\n",
      " Nidhi  45  56  78\n"
     ]
    }
   ],
   "source": [
    "name = input(\"enter the name\")\n",
    "subject_1 = input(\"Physics\")\n",
    "subject_2 = input(\"Math\")\n",
    "subject_3 = input(\"Chemistry\")\n",
    "print(name , subject_1 , subject_2 , subject_3)\n"
   ]
  },
  {
   "cell_type": "code",
   "execution_count": 13,
   "id": "71e8d740",
   "metadata": {},
   "outputs": [],
   "source": [
    "Nidhi = 45+56+78"
   ]
  },
  {
   "cell_type": "code",
   "execution_count": 14,
   "id": "c8919098",
   "metadata": {},
   "outputs": [
    {
     "name": "stdout",
     "output_type": "stream",
     "text": [
      "179\n"
     ]
    }
   ],
   "source": [
    "print(Nidhi)"
   ]
  },
  {
   "cell_type": "code",
   "execution_count": 15,
   "id": "4bb8429c",
   "metadata": {},
   "outputs": [
    {
     "name": "stdout",
     "output_type": "stream",
     "text": [
      "enter the name Shubh\n",
      "Physics 78\n",
      "Math 67\n",
      "Chemistry 78\n",
      " Shubh  78  67  78\n"
     ]
    }
   ],
   "source": [
    "name = input(\"enter the name\")\n",
    "subject1 = input(\"Physics\")\n",
    "subject2 = input(\"Math\")\n",
    "subject3 = input(\"Chemistry\")\n",
    "print(name , subject1 , subject2 , subject3)"
   ]
  },
  {
   "cell_type": "code",
   "execution_count": 16,
   "id": "cd5e22e4",
   "metadata": {},
   "outputs": [
    {
     "name": "stdout",
     "output_type": "stream",
     "text": [
      "223\n"
     ]
    }
   ],
   "source": [
    "shubh = 78+67+78\n",
    "print(shubh)\n"
   ]
  },
  {
   "cell_type": "code",
   "execution_count": 17,
   "id": "24764cf3",
   "metadata": {},
   "outputs": [
    {
     "name": "stdout",
     "output_type": "stream",
     "text": [
      "False\n"
     ]
    }
   ],
   "source": [
    "print(Nidhi==shubh)"
   ]
  },
  {
   "cell_type": "code",
   "execution_count": 18,
   "id": "41c7cf2f",
   "metadata": {},
   "outputs": [],
   "source": [
    "def sec_to_min(sec):\n",
    "    sec = sec/60\n",
    "    return sec"
   ]
  },
  {
   "cell_type": "code",
   "execution_count": 19,
   "id": "3bfb5b3b",
   "metadata": {},
   "outputs": [
    {
     "data": {
      "text/plain": [
       "1.5"
      ]
     },
     "execution_count": 19,
     "metadata": {},
     "output_type": "execute_result"
    }
   ],
   "source": [
    "sec_to_min(90)"
   ]
  },
  {
   "cell_type": "code",
   "execution_count": 26,
   "id": "bb35b01b",
   "metadata": {},
   "outputs": [],
   "source": [
    "def fahren_to_cel(fahren):\n",
    "    cel = (fahren-32)/(1.8)\n",
    "    return cel"
   ]
  },
  {
   "cell_type": "code",
   "execution_count": 27,
   "id": "b9a8e0d7",
   "metadata": {},
   "outputs": [
    {
     "data": {
      "text/plain": [
       "0.0"
      ]
     },
     "execution_count": 27,
     "metadata": {},
     "output_type": "execute_result"
    }
   ],
   "source": [
    "fahren_to_cel(32)"
   ]
  },
  {
   "cell_type": "code",
   "execution_count": 28,
   "id": "ff8d4ccd",
   "metadata": {},
   "outputs": [],
   "source": [
    "def fahren_to_cel(fahren):\n",
    "    cel = (fahren-32)/1.8\n",
    "    return cel"
   ]
  },
  {
   "cell_type": "code",
   "execution_count": 29,
   "id": "99fb31d1",
   "metadata": {},
   "outputs": [
    {
     "data": {
      "text/plain": [
       "4.444444444444445"
      ]
     },
     "execution_count": 29,
     "metadata": {},
     "output_type": "execute_result"
    }
   ],
   "source": [
    "fahren_to_cel(40)"
   ]
  },
  {
   "cell_type": "code",
   "execution_count": 30,
   "id": "f34dfe7d",
   "metadata": {},
   "outputs": [
    {
     "name": "stdout",
     "output_type": "stream",
     "text": [
      "enter the number 34\n",
      "True\n"
     ]
    }
   ],
   "source": [
    "num = int(input(\"enter the number\"))\n",
    "if num%2==0:\n",
    "    print(\"True\")\n",
    "else:\n",
    "    print(\"odd\")"
   ]
  },
  {
   "cell_type": "code",
   "execution_count": 31,
   "id": "83474db1",
   "metadata": {},
   "outputs": [
    {
     "name": "stdout",
     "output_type": "stream",
     "text": [
      "enter the number 45\n",
      "odd\n"
     ]
    }
   ],
   "source": [
    "num = int(input(\"enter the number\"))\n",
    "if num%2==0:\n",
    "    print(\"True\")\n",
    "else:\n",
    "    print(\"odd\")"
   ]
  },
  {
   "cell_type": "code",
   "execution_count": 32,
   "id": "63c5683c",
   "metadata": {},
   "outputs": [
    {
     "name": "stdout",
     "output_type": "stream",
     "text": [
      "True\n"
     ]
    }
   ],
   "source": [
    "a = [\"Dog\" , \"Cat\"]\n",
    "print(\"Dog\" in a)"
   ]
  },
  {
   "cell_type": "code",
   "execution_count": 34,
   "id": "34a843c3",
   "metadata": {},
   "outputs": [
    {
     "name": "stdout",
     "output_type": "stream",
     "text": [
      "10\n",
      "12\n",
      "14\n",
      "16\n",
      "18\n",
      "20\n",
      "22\n",
      "24\n",
      "26\n",
      "28\n",
      "30\n",
      "32\n",
      "34\n",
      "36\n",
      "38\n",
      "40\n",
      "42\n",
      "44\n",
      "46\n",
      "48\n"
     ]
    }
   ],
   "source": [
    "for i in range (10,50,2):\n",
    "     print(i)"
   ]
  },
  {
   "cell_type": "code",
   "execution_count": 35,
   "id": "484222a5",
   "metadata": {},
   "outputs": [
    {
     "name": "stdout",
     "output_type": "stream",
     "text": [
      "enter a number 4\n",
      "weak acid\n"
     ]
    }
   ],
   "source": [
    "ph = int(input(\"enter a number\"))\n",
    "if ph>=1 and ph<=3:\n",
    "    print(\"strong acid\")\n",
    "elif ph>=4 and ph<=6:\n",
    "    print(\"weak acid\")\n",
    "elif ph ==7:\n",
    "    print(\"Neutral\")\n",
    "elif ph>=8 and ph<=11:\n",
    "    print(\"weak base\")\n",
    "elif ph>=11 and ph<=14:\n",
    "    print(\"strong base\")\n",
    "else:\n",
    "    print(\"not valid\")\n"
   ]
  },
  {
   "cell_type": "code",
   "execution_count": 37,
   "id": "d79260d7",
   "metadata": {},
   "outputs": [
    {
     "name": "stdout",
     "output_type": "stream",
     "text": [
      "enter a choice of burger: non_veg or veg veg\n",
      "select the burger: 1.cheeze_burger\n",
      "2.aalotiki_burger\n",
      "3.mexican_burger 3\n",
      "ordered:mexican_burger\n"
     ]
    }
   ],
   "source": [
    "## Build a code for burger delivery\n",
    "\n",
    "burger = input(\"enter a choice of burger: non_veg or veg\")\n",
    "if burger == 'non_veg':\n",
    "    burger_name = int(input(\"select the burger: 1.chicken_burger\\n2.hamburger\"))\n",
    "    if burger_name ==1:\n",
    "        print(\"ordered:chicken_burger\")\n",
    "    elif burger_name ==2:\n",
    "        print(\"ordered:hamburger\")\n",
    "else:\n",
    "    burger_name = int(input(\"select the burger: 1.cheeze_burger\\n2.aalotiki_burger\\n3.mexican_burger\"))\n",
    "    if burger_name ==1:\n",
    "        print(\"ordered:cheeze_burger\")\n",
    "    elif burger_name==2:\n",
    "        print( \"ordered:aalotiki_burger\")\n",
    "    elif burger_name==3:\n",
    "        print(\"ordered:mexican_burger\")"
   ]
  },
  {
   "cell_type": "code",
   "execution_count": null,
   "id": "0466b79b",
   "metadata": {},
   "outputs": [],
   "source": []
  }
 ],
 "metadata": {
  "kernelspec": {
   "display_name": "Python 3 (ipykernel)",
   "language": "python",
   "name": "python3"
  },
  "language_info": {
   "codemirror_mode": {
    "name": "ipython",
    "version": 3
   },
   "file_extension": ".py",
   "mimetype": "text/x-python",
   "name": "python",
   "nbconvert_exporter": "python",
   "pygments_lexer": "ipython3",
   "version": "3.10.9"
  }
 },
 "nbformat": 4,
 "nbformat_minor": 5
}
